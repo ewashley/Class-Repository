{
 "cells": [
  {
   "cell_type": "markdown",
   "metadata": {
    "colab_type": "text",
    "id": "Tia3MP1SJpgj"
   },
   "source": [
    "# Springboard Data Science Career Track Unit 4 Challenge - Tier 3 Complete\n",
    "\n",
    "## Objectives\n",
    "Hey! Great job getting through those challenging DataCamp courses. You're learning a lot in a short span of time. \n",
    "\n",
    "In this notebook, you're going to apply the skills you've been learning, bridging the gap between the controlled environment of DataCamp and the *slightly* messier work that data scientists do with actual datasets!\n",
    "\n",
    "Here’s the mystery we’re going to solve: ***which boroughs of London have seen the greatest increase in housing prices, on average, over the last two decades?***\n",
    "\n",
    "\n",
    "A borough is just a fancy word for district. You may be familiar with the five boroughs of New York… well, there are 32 boroughs within Greater London [(here's some info for the curious)](https://en.wikipedia.org/wiki/London_boroughs). Some of them are more desirable areas to live in, and the data will reflect that with a greater rise in housing prices.\n",
    "\n",
    "***This is the Tier 3 notebook, which means it's not filled in at all: we'll just give you the skeleton of a project, the brief and the data. It's up to you to play around with it and see what you can find out! Good luck! If you struggle, feel free to look at easier tiers for help; but try to dip in and out of them, as the more independent work you do, the better it is for your learning!***\n",
    "\n",
    "This challenge will make use of only what you learned in the following DataCamp courses: \n",
    "- Prework courses (Introduction to Python for Data Science, Intermediate Python for Data Science)\n",
    "- Data Types for Data Science\n",
    "- Python Data Science Toolbox (Part One) \n",
    "- pandas Foundations\n",
    "- Manipulating DataFrames with pandas\n",
    "- Merging DataFrames with pandas\n",
    "\n",
    "Of the tools, techniques and concepts in the above DataCamp courses, this challenge should require the application of the following: \n",
    "- **pandas**\n",
    "    - **data ingestion and inspection** (pandas Foundations, Module One) \n",
    "    - **exploratory data analysis** (pandas Foundations, Module Two)\n",
    "    - **tidying and cleaning** (Manipulating DataFrames with pandas, Module Three) \n",
    "    - **transforming DataFrames** (Manipulating DataFrames with pandas, Module One)\n",
    "    - **subsetting DataFrames with lists** (Manipulating DataFrames with pandas, Module One) \n",
    "    - **filtering DataFrames** (Manipulating DataFrames with pandas, Module One) \n",
    "    - **grouping data** (Manipulating DataFrames with pandas, Module Four) \n",
    "    - **melting data** (Manipulating DataFrames with pandas, Module Three) \n",
    "    - **advanced indexing** (Manipulating DataFrames with pandas, Module Four) \n",
    "- **matplotlib** (Intermediate Python for Data Science, Module One)\n",
    "- **fundamental data types** (Data Types for Data Science, Module One) \n",
    "- **dictionaries** (Intermediate Python for Data Science, Module Two)\n",
    "- **handling dates and times** (Data Types for Data Science, Module Four)\n",
    "- **function definition** (Python Data Science Toolbox - Part One, Module One)\n",
    "- **default arguments, variable length, and scope** (Python Data Science Toolbox - Part One, Module Two) \n",
    "- **lambda functions and error handling** (Python Data Science Toolbox - Part One, Module Four) "
   ]
  },
  {
   "cell_type": "markdown",
   "metadata": {
    "colab_type": "text",
    "id": "Ipgd2nV8Jpgl"
   },
   "source": [
    "## The Data Science Pipeline\n",
    "\n",
    "This is Tier Three, so we'll get you started. But after that, it's all in your hands! When you feel done with your investigations, look back over what you've accomplished, and prepare a quick presentation of your findings for the next mentor meeting. \n",
    "\n",
    "Data Science is magical. In this case study, you'll get to apply some complex machine learning algorithms. But as  [David Spiegelhalter](https://www.youtube.com/watch?v=oUs1uvsz0Ok) reminds us, there is no substitute for simply **taking a really, really good look at the data.** Sometimes, this is all we need to answer our question.\n",
    "\n",
    "Data Science projects generally adhere to the four stages of Data Science Pipeline:\n",
    "1. Sourcing and loading \n",
    "2. Cleaning, transforming, and visualizing \n",
    "3. Modeling \n",
    "4. Evaluating and concluding \n"
   ]
  },
  {
   "cell_type": "markdown",
   "metadata": {
    "colab_type": "text",
    "id": "zswDqbefJpgm"
   },
   "source": [
    "### 1. Sourcing and Loading \n",
    "\n",
    "Any Data Science project kicks off by importing  ***pandas***. The documentation of this wonderful library can be found [here](https://pandas.pydata.org/). As you've seen, pandas is conveniently connected to the [Numpy](http://www.numpy.org/) and [Matplotlib](https://matplotlib.org/) libraries. \n",
    "\n",
    "***Hint:*** This part of the data science pipeline will test those skills you acquired in the pandas Foundations course, Module One. "
   ]
  },
  {
   "cell_type": "markdown",
   "metadata": {
    "colab_type": "text",
    "id": "aEau5nEvJpgm"
   },
   "source": [
    "#### 1.1. Importing Libraries"
   ]
  },
  {
   "cell_type": "code",
   "execution_count": 2,
   "metadata": {
    "colab": {},
    "colab_type": "code",
    "id": "7Bt_Q_oPJpgn"
   },
   "outputs": [],
   "source": [
    "# Let's import the pandas, numpy libraries as pd, and np respectively. \n",
    "import pandas as pd\n",
    "import numpy as np\n",
    "\n",
    "# Load the pyplot collection of functions from matplotlib, as plt \n",
    "from matplotlib import pyplot as plt"
   ]
  },
  {
   "cell_type": "markdown",
   "metadata": {
    "colab_type": "text",
    "id": "koUrawxsJpgq"
   },
   "source": [
    "#### 1.2.  Loading the data\n",
    "Your data comes from the [London Datastore](https://data.london.gov.uk/): a free, open-source data-sharing portal for London-oriented datasets. "
   ]
  },
  {
   "cell_type": "code",
   "execution_count": 3,
   "metadata": {
    "colab": {},
    "colab_type": "code",
    "id": "AiLiD4v3Jpgr"
   },
   "outputs": [],
   "source": [
    "# First, make a variable called url_LondonHousePrices, and assign it the following link, enclosed in quotation-marks as a string:\n",
    "# https://data.london.gov.uk/download/uk-house-price-index/70ac0766-8902-4eb5-aab5-01951aaed773/UK%20House%20price%20index.xls\n",
    "\n",
    "url_LondonHousePrices = \"https://data.london.gov.uk/download/uk-house-price-index/70ac0766-8902-4eb5-aab5-01951aaed773/UK%20House%20price%20index.xls\"\n",
    "\n",
    "# The dataset we're interested in contains the Average prices of the houses, and is actually on a particular sheet of the Excel file. \n",
    "# As a result, we need to specify the sheet name in the read_excel() method.\n",
    "# Put this data into a variable called properties.  \n",
    "properties = pd.read_excel(url_LondonHousePrices, sheet_name='Average price', index_col= None)\n"
   ]
  },
  {
   "cell_type": "markdown",
   "metadata": {
    "colab_type": "text",
    "id": "POukEJXgJpgu"
   },
   "source": [
    "### 2. Cleaning, transforming, and visualizing\n",
    "This second stage is arguably the most important part of any Data Science project. The first thing to do is take a proper look at the data. Cleaning forms the majority of this stage, and can be done both before or after Transformation.\n",
    "\n",
    "The end goal of data cleaning is to have tidy data. When data is tidy: \n",
    "\n",
    "1. Each variable has a column.\n",
    "2. Each observation forms a row.\n",
    "\n",
    "Keep the end goal in mind as you move through this process, every step will take you closer. \n",
    "\n",
    "\n",
    "\n",
    "***Hint:*** This part of the data science pipeline should test those skills you acquired in: \n",
    "- Intermediate Python for data science, all modules.\n",
    "- pandas Foundations, all modules. \n",
    "- Manipulating DataFrames with pandas, all modules.\n",
    "- Data Types for Data Science, Module Four.\n",
    "- Python Data Science Toolbox - Part One, all modules"
   ]
  },
  {
   "cell_type": "markdown",
   "metadata": {
    "colab_type": "text",
    "id": "Te0Q548tnzZa"
   },
   "source": [
    "**2.1. Exploring your data** \n",
    "\n",
    "Think about your pandas functions for checking out a dataframe. "
   ]
  },
  {
   "cell_type": "code",
   "execution_count": 10,
   "metadata": {
    "colab": {},
    "colab_type": "code",
    "id": "Rxirxw_qoAJa"
   },
   "outputs": [
    {
     "name": "stdout",
     "output_type": "stream",
     "text": [
      "  Unnamed: 0 City of London Barking & Dagenham       Barnet       Bexley  \\\n",
      "0        NaT      E09000001          E09000002    E09000003    E09000004   \n",
      "1 1995-01-01    91448.98487         50460.2266  93284.51832  64958.09036   \n",
      "2 1995-02-01    82202.77314        51085.77983  93190.16963  64787.92069   \n",
      "3 1995-03-01    79120.70256        51268.96956  92247.52435  64367.49344   \n",
      "4 1995-04-01    77101.20804        53133.50526  90762.87492  64277.66881   \n",
      "\n",
      "         Brent      Bromley       Camden      Croydon       Ealing  ...  \\\n",
      "0    E09000005    E09000006    E09000007    E09000008    E09000009  ...   \n",
      "1  71306.56698  81671.47692  120932.8881  69158.16225  79885.89069  ...   \n",
      "2  72022.26197  81657.55944  119508.8622  68951.09542  80897.06551  ...   \n",
      "3  72015.76274  81449.31143  120282.2131  68712.44341  81379.86288  ...   \n",
      "4  72965.63094  81124.41227   120097.899  68610.04641  82188.90498  ...   \n",
      "\n",
      "    NORTH WEST YORKS & THE HUMBER EAST MIDLANDS WEST MIDLANDS EAST OF ENGLAND  \\\n",
      "0    E12000002          E12000003     E12000004     E12000005       E12000006   \n",
      "1  43958.48001        44803.42878   45544.52227   48527.52339      56701.5961   \n",
      "2  43925.42289        44528.80721   46051.57066   49341.29029     56593.59475   \n",
      "3   44434.8681        45200.46775   45383.82395   49442.17973     56171.18278   \n",
      "4   44267.7796        45614.34341   46124.23045   49455.93299     56567.89582   \n",
      "\n",
      "        LONDON   SOUTH EAST   SOUTH WEST Unnamed: 47      England  \n",
      "0    E12000007    E12000008    E12000009         NaN    E92000001  \n",
      "1  74435.76052  64018.87894   54705.1579         NaN  53202.77128  \n",
      "2  72777.93709  63715.02399  54356.14843         NaN   53096.1549  \n",
      "3  73896.84204  64113.60858  53583.07667         NaN   53201.2843  \n",
      "4  74455.28754  64623.22395  54786.01938         NaN   53590.8548  \n",
      "\n",
      "[5 rows x 49 columns]\n",
      "<class 'pandas.core.frame.DataFrame'>\n",
      "RangeIndex: 329 entries, 0 to 328\n",
      "Data columns (total 49 columns):\n",
      " #   Column                Non-Null Count  Dtype         \n",
      "---  ------                --------------  -----         \n",
      " 0   Unnamed: 0            328 non-null    datetime64[ns]\n",
      " 1   City of London        329 non-null    object        \n",
      " 2   Barking & Dagenham    329 non-null    object        \n",
      " 3   Barnet                329 non-null    object        \n",
      " 4   Bexley                329 non-null    object        \n",
      " 5   Brent                 329 non-null    object        \n",
      " 6   Bromley               329 non-null    object        \n",
      " 7   Camden                329 non-null    object        \n",
      " 8   Croydon               329 non-null    object        \n",
      " 9   Ealing                329 non-null    object        \n",
      " 10  Enfield               329 non-null    object        \n",
      " 11  Greenwich             329 non-null    object        \n",
      " 12  Hackney               329 non-null    object        \n",
      " 13  Hammersmith & Fulham  329 non-null    object        \n",
      " 14  Haringey              329 non-null    object        \n",
      " 15  Harrow                329 non-null    object        \n",
      " 16  Havering              329 non-null    object        \n",
      " 17  Hillingdon            329 non-null    object        \n",
      " 18  Hounslow              329 non-null    object        \n",
      " 19  Islington             329 non-null    object        \n",
      " 20  Kensington & Chelsea  329 non-null    object        \n",
      " 21  Kingston upon Thames  329 non-null    object        \n",
      " 22  Lambeth               329 non-null    object        \n",
      " 23  Lewisham              329 non-null    object        \n",
      " 24  Merton                329 non-null    object        \n",
      " 25  Newham                329 non-null    object        \n",
      " 26  Redbridge             329 non-null    object        \n",
      " 27  Richmond upon Thames  329 non-null    object        \n",
      " 28  Southwark             329 non-null    object        \n",
      " 29  Sutton                329 non-null    object        \n",
      " 30  Tower Hamlets         329 non-null    object        \n",
      " 31  Waltham Forest        329 non-null    object        \n",
      " 32  Wandsworth            329 non-null    object        \n",
      " 33  Westminster           329 non-null    object        \n",
      " 34  Unnamed: 34           0 non-null      float64       \n",
      " 35  Inner London          329 non-null    object        \n",
      " 36  Outer London          329 non-null    object        \n",
      " 37  Unnamed: 37           0 non-null      float64       \n",
      " 38  NORTH EAST            329 non-null    object        \n",
      " 39  NORTH WEST            329 non-null    object        \n",
      " 40  YORKS & THE HUMBER    329 non-null    object        \n",
      " 41  EAST MIDLANDS         329 non-null    object        \n",
      " 42  WEST MIDLANDS         329 non-null    object        \n",
      " 43  EAST OF ENGLAND       329 non-null    object        \n",
      " 44  LONDON                329 non-null    object        \n",
      " 45  SOUTH EAST            329 non-null    object        \n",
      " 46  SOUTH WEST            329 non-null    object        \n",
      " 47  Unnamed: 47           0 non-null      float64       \n",
      " 48  England               329 non-null    object        \n",
      "dtypes: datetime64[ns](1), float64(3), object(45)\n",
      "memory usage: 126.1+ KB\n",
      "None\n",
      "       Unnamed: 34  Unnamed: 37  Unnamed: 47\n",
      "count          0.0          0.0          0.0\n",
      "mean           NaN          NaN          NaN\n",
      "std            NaN          NaN          NaN\n",
      "min            NaN          NaN          NaN\n",
      "25%            NaN          NaN          NaN\n",
      "50%            NaN          NaN          NaN\n",
      "75%            NaN          NaN          NaN\n",
      "max            NaN          NaN          NaN\n",
      "Index(['Unnamed: 0', 'City of London', 'Barking & Dagenham', 'Barnet',\n",
      "       'Bexley', 'Brent', 'Bromley', 'Camden', 'Croydon', 'Ealing', 'Enfield',\n",
      "       'Greenwich', 'Hackney', 'Hammersmith & Fulham', 'Haringey', 'Harrow',\n",
      "       'Havering', 'Hillingdon', 'Hounslow', 'Islington',\n",
      "       'Kensington & Chelsea', 'Kingston upon Thames', 'Lambeth', 'Lewisham',\n",
      "       'Merton', 'Newham', 'Redbridge', 'Richmond upon Thames', 'Southwark',\n",
      "       'Sutton', 'Tower Hamlets', 'Waltham Forest', 'Wandsworth',\n",
      "       'Westminster', 'Unnamed: 34', 'Inner London', 'Outer London',\n",
      "       'Unnamed: 37', 'NORTH EAST', 'NORTH WEST', 'YORKS & THE HUMBER',\n",
      "       'EAST MIDLANDS', 'WEST MIDLANDS', 'EAST OF ENGLAND', 'LONDON',\n",
      "       'SOUTH EAST', 'SOUTH WEST', 'Unnamed: 47', 'England'],\n",
      "      dtype='object')\n",
      "(329, 49)\n"
     ]
    }
   ],
   "source": [
    "print(properties.head())\n",
    "print(properties.info())\n",
    "print(properties.describe())\n",
    "print(properties.columns)\n",
    "print(properties.shape)"
   ]
  },
  {
   "cell_type": "markdown",
   "metadata": {
    "colab_type": "text",
    "id": "tE9Sqt9-oAta"
   },
   "source": [
    "**2.2. Cleaning the data**\n",
    "\n",
    "You might find you need to transpose your dataframe, check out what its row indexes are, and reset the index. You  also might find you need to assign the values of the first row to your column headings  . (Hint: recall the .columns feature of DataFrames, as well as the iloc[] method).\n",
    "\n",
    "Don't be afraid to use StackOverflow for help  with this."
   ]
  },
  {
   "cell_type": "code",
   "execution_count": 24,
   "metadata": {
    "colab": {},
    "colab_type": "code",
    "id": "cdAu1A3YoH_r"
   },
   "outputs": [
    {
     "name": "stdout",
     "output_type": "stream",
     "text": [
      "0             Unnamed: 0        NaT 1995-01-01 00:00:00 1995-02-01 00:00:00  \\\n",
      "1         City of London  E09000001         91448.98487         82202.77314   \n",
      "2     Barking & Dagenham  E09000002          50460.2266         51085.77983   \n",
      "3                 Barnet  E09000003         93284.51832         93190.16963   \n",
      "4                 Bexley  E09000004         64958.09036         64787.92069   \n",
      "5                  Brent  E09000005         71306.56698         72022.26197   \n",
      "6                Bromley  E09000006         81671.47692         81657.55944   \n",
      "7                 Camden  E09000007         120932.8881         119508.8622   \n",
      "8                Croydon  E09000008         69158.16225         68951.09542   \n",
      "9                 Ealing  E09000009         79885.89069         80897.06551   \n",
      "10               Enfield  E09000010         72514.69096         73155.19746   \n",
      "11             Greenwich  E09000011         62300.10169         60993.26863   \n",
      "12               Hackney  E09000012         61296.52637         63187.08332   \n",
      "13  Hammersmith & Fulham  E09000013         124902.8602          122087.718   \n",
      "14              Haringey  E09000014         76287.56947         78901.21036   \n",
      "15                Harrow  E09000015         84769.52599         83396.10525   \n",
      "16              Havering  E09000016         68000.13774         69393.51294   \n",
      "17            Hillingdon  E09000017         73834.82964          75031.0696   \n",
      "18              Hounslow  E09000018         72231.70537         71051.55852   \n",
      "19             Islington  E09000019         92516.48557         94342.37334   \n",
      "20  Kensington & Chelsea  E09000020         182694.8326         182345.2463   \n",
      "21  Kingston upon Thames  E09000021         80875.84843         81230.13524   \n",
      "22               Lambeth  E09000022         67770.98843         65381.51908   \n",
      "23              Lewisham  E09000023         60491.26109         60869.27091   \n",
      "24                Merton  E09000024          82070.6133         79982.74872   \n",
      "25                Newham  E09000025         53539.31919         53153.88306   \n",
      "26             Redbridge  E09000026         72189.58437          72141.6261   \n",
      "27  Richmond upon Thames  E09000027         109326.1245         111103.0394   \n",
      "28             Southwark  E09000028         67885.20344          64799.0648   \n",
      "29                Sutton  E09000029         71536.97357         70893.20851   \n",
      "30         Tower Hamlets  E09000030         59865.18995         62318.53353   \n",
      "31        Waltham Forest  E09000031         61319.44913         60252.12246   \n",
      "32            Wandsworth  E09000032         88559.04381         88641.01678   \n",
      "33           Westminster  E09000033         133025.2772         131468.3096   \n",
      "34           Unnamed: 34        NaN                 NaN                 NaN   \n",
      "35          Inner London  E13000001          78251.9765         75885.70201   \n",
      "36          Outer London  E13000002         72958.79836         72937.88262   \n",
      "37           Unnamed: 37        NaN                 NaN                 NaN   \n",
      "38            NORTH EAST  E12000001         42076.35411         42571.98949   \n",
      "39            NORTH WEST  E12000002         43958.48001         43925.42289   \n",
      "40    YORKS & THE HUMBER  E12000003         44803.42878         44528.80721   \n",
      "41         EAST MIDLANDS  E12000004         45544.52227         46051.57066   \n",
      "42         WEST MIDLANDS  E12000005         48527.52339         49341.29029   \n",
      "43       EAST OF ENGLAND  E12000006          56701.5961         56593.59475   \n",
      "44                LONDON  E12000007         74435.76052         72777.93709   \n",
      "45            SOUTH EAST  E12000008         64018.87894         63715.02399   \n",
      "46            SOUTH WEST  E12000009          54705.1579         54356.14843   \n",
      "47           Unnamed: 47        NaN                 NaN                 NaN   \n",
      "48               England  E92000001         53202.77128          53096.1549   \n",
      "\n",
      "0  1995-03-01 00:00:00 1995-04-01 00:00:00 1995-05-01 00:00:00  \\\n",
      "1          79120.70256         77101.20804         84409.14932   \n",
      "2          51268.96956         53133.50526         53042.24852   \n",
      "3          92247.52435         90762.87492         90258.00033   \n",
      "4          64367.49344         64277.66881         63997.13588   \n",
      "5          72015.76274         72965.63094         73704.04743   \n",
      "6          81449.31143         81124.41227         81542.61561   \n",
      "7          120282.2131          120097.899         119929.2782   \n",
      "8          68712.44341         68610.04641          68844.9169   \n",
      "9          81379.86288         82188.90498         82077.05525   \n",
      "10         72190.44144         71442.92235         70630.77955   \n",
      "11         61377.83464          61927.7246         63512.99103   \n",
      "12         63593.29935         65139.64403         66193.99212   \n",
      "13         120635.9467         121424.6241          124433.539   \n",
      "14         78521.94855         79545.57477          79374.0349   \n",
      "15         83416.23759         83567.88439         83853.65615   \n",
      "16         69368.02407         69444.26215         68534.52248   \n",
      "17         74188.66949         73911.40591         73117.12416   \n",
      "18         72097.99411         71890.28339         72877.47219   \n",
      "19         93465.86407         93344.49305         94346.39917   \n",
      "20         182878.8231         184176.9168         191474.1141   \n",
      "21         81111.48848         81672.80476         82123.51084   \n",
      "22         66336.51868          66388.7716         69035.11076   \n",
      "23         60288.03002         59471.03136         58551.38387   \n",
      "24         80661.68279         79990.54333         80873.98643   \n",
      "25         53458.26393         54479.75395         55803.95958   \n",
      "26         72501.35502         72228.60295         72366.64122   \n",
      "27         107325.4742              106875         107707.6799   \n",
      "28         65763.29719         63073.62117         64420.49933   \n",
      "29         70306.83844          69411.9439         69759.21989   \n",
      "30         63938.67686         66233.19383         66432.85846   \n",
      "31         60871.08493         60971.39722         61494.16938   \n",
      "32         87124.81523         87026.00225         86518.05945   \n",
      "33         132260.3417         133370.2036         133911.1117   \n",
      "34                 NaN                 NaN                 NaN   \n",
      "35         76591.59947         76851.56697         79129.19443   \n",
      "36         72714.53478         72591.92469         72752.99414   \n",
      "37                 NaN                 NaN                 NaN   \n",
      "38         42369.72984          42095.8436         43266.45165   \n",
      "39          44434.8681          44267.7796         44223.61973   \n",
      "40         45200.46775         45614.34341         44830.98563   \n",
      "41         45383.82395         46124.23045         45878.00396   \n",
      "42         49442.17973         49455.93299         50369.66188   \n",
      "43         56171.18278         56567.89582         56479.80183   \n",
      "44         73896.84204         74455.28754         75432.02786   \n",
      "45         64113.60858         64623.22395         64530.36358   \n",
      "46         53583.07667         54786.01938         54698.83831   \n",
      "47                 NaN                 NaN                 NaN   \n",
      "48          53201.2843          53590.8548         53678.24041   \n",
      "\n",
      "0  1995-06-01 00:00:00 1995-07-01 00:00:00 1995-08-01 00:00:00  ...  \\\n",
      "1          94900.51244         110128.0423         112329.4376  ...   \n",
      "2          53700.34831         52113.12157         52232.19868  ...   \n",
      "3          90107.23471         91441.24768         92361.31512  ...   \n",
      "4          64252.32335         63722.70055         64432.60005  ...   \n",
      "5          74310.48167         74127.03788          73547.0411  ...   \n",
      "6          82382.83435         82898.52264         82054.37156  ...   \n",
      "7          121887.4625         124027.5768         125529.8039  ...   \n",
      "8          69052.51103         69142.48112         68993.42545  ...   \n",
      "9          81630.66181          82352.2226         82706.65927  ...   \n",
      "10         71348.31147         71837.54011         72237.94562  ...   \n",
      "11         64751.56404         65486.34112         65076.43195  ...   \n",
      "12         66921.17101           68390.753         68096.79385  ...   \n",
      "13         126175.1513         124381.5134         123625.3196  ...   \n",
      "14          79956.3621         80746.34881         81217.69074  ...   \n",
      "15         84173.24689         84226.69844         84430.61796  ...   \n",
      "16         68464.60664         68680.83996         69023.36482  ...   \n",
      "17         74005.00585         74671.13263         74967.86534  ...   \n",
      "18         72331.08116         73717.78844         74479.94802  ...   \n",
      "19         97428.94311         98976.14077         98951.20791  ...   \n",
      "20         197265.7602         197963.3169         198037.4218  ...   \n",
      "21         82205.66822           82525.793         83342.84552  ...   \n",
      "22         68881.15764         69608.72242         68840.02827  ...   \n",
      "23         58041.43543         58126.37811          58151.3154  ...   \n",
      "24         80704.92667         81055.90335         80781.09186  ...   \n",
      "25         56067.76986         55458.31693         54709.35467  ...   \n",
      "26          72279.4325         72880.83974         73275.16891  ...   \n",
      "27         112865.0542         114656.6011         112320.4096  ...   \n",
      "28         64155.81449         67024.74767         65525.94434  ...   \n",
      "29         70125.24728         70789.57284         69958.41918  ...   \n",
      "30         66232.16372         64692.22672         63472.27558  ...   \n",
      "31         61547.79643         61933.52738          61916.4222  ...   \n",
      "32          88114.3351         89830.58934         90560.68078  ...   \n",
      "33         134562.1941         133450.2162         136581.5082  ...   \n",
      "34                 NaN                 NaN                 NaN  ...   \n",
      "35          79969.1525         80550.47935         80597.64563  ...   \n",
      "36         73189.39978         73665.90517         73691.12888  ...   \n",
      "37                 NaN                 NaN                 NaN  ...   \n",
      "38         42315.34372         43287.74323         41899.05494  ...   \n",
      "39         44112.96432         44109.58764         44193.66583  ...   \n",
      "40         45392.63981         45534.99864         45111.45939  ...   \n",
      "41         45679.99539         46037.67312         45922.53585  ...   \n",
      "42         50100.43023         49860.00809         49598.45969  ...   \n",
      "43         56288.94557         57242.30186         56732.40547  ...   \n",
      "44         75606.24501         75984.24079         75529.34488  ...   \n",
      "45           65511.008         65224.88465         64851.60429  ...   \n",
      "46         54420.15939         54265.86368         54365.71495  ...   \n",
      "47                 NaN                 NaN                 NaN  ...   \n",
      "48         53735.15475         53900.60633         53600.31975  ...   \n",
      "\n",
      "0  2021-07-01 00:00:00 2021-08-01 00:00:00 2021-09-01 00:00:00  \\\n",
      "1          946823.5048         951748.3655         956411.5828   \n",
      "2          309272.9988         313458.6524         315061.8135   \n",
      "3          543469.3212         557782.6161         556321.1527   \n",
      "4           366095.067         371295.1503         372283.9658   \n",
      "5          525953.4981         519967.3789         516871.8266   \n",
      "6          470181.4754         471749.7903         472042.6102   \n",
      "7          870227.6164         872206.3792         871771.2508   \n",
      "8          392224.4554          395412.777         396949.9723   \n",
      "9          505598.6796         513230.0546         511840.9236   \n",
      "10         419798.2409         426530.5084         428512.4521   \n",
      "11         395899.9541         402903.2678         398582.6741   \n",
      "12          614581.973         623178.8426         617334.4059   \n",
      "13         792899.0146         842383.1755         855023.4364   \n",
      "14         558903.1279         576359.0143         580884.9813   \n",
      "15         482448.7115         483634.2004          489234.959   \n",
      "16         387971.7013          391094.531         397761.0702   \n",
      "17         428077.3619         432756.7161         435584.3392   \n",
      "18         413375.8441         421713.5103         420017.2445   \n",
      "19         681337.1403         701323.6472         705058.7877   \n",
      "20         1330982.998         1401419.923         1454839.208   \n",
      "21         505183.5533         514134.2926         516015.3129   \n",
      "22         523487.3447          520885.169         525268.1135   \n",
      "23         423888.2707         430117.7098         428779.9942   \n",
      "24         535944.3993          543733.332         546785.2293   \n",
      "25         386305.0525         390221.7543         387319.1586   \n",
      "26         452175.7917         456982.6321         457727.2249   \n",
      "27         719965.9182         737839.7697         738180.4787   \n",
      "28         505876.4932         504491.1796         502749.5663   \n",
      "29         403539.1482         408625.3226         413668.9106   \n",
      "30         452108.6757         457922.4263         452656.9125   \n",
      "31          474663.277         479318.4486         481730.3344   \n",
      "32         602572.5952         621428.0568         628957.2158   \n",
      "33         922437.8627         1037515.224         1035239.214   \n",
      "34                 NaN                 NaN                 NaN   \n",
      "35         591071.3615         606309.7563         608352.9803   \n",
      "36         451232.0296          456747.401         458059.3546   \n",
      "37                 NaN                 NaN                 NaN   \n",
      "38         141930.3081         144243.9476         155441.0771   \n",
      "39         184281.5266         190330.6752         201604.0817   \n",
      "40         180749.7466         186824.8086         196609.6373   \n",
      "41          212957.267         219094.8058         228456.9779   \n",
      "42         217499.1813         224764.5526         231698.6039   \n",
      "43          310253.279         320640.6378         329694.9921   \n",
      "44         502252.0856         512279.8349         510750.8219   \n",
      "45         346159.5032         355557.9994         368264.1108   \n",
      "46         275206.0294         287976.1043         302301.1627   \n",
      "47                 NaN                 NaN                 NaN   \n",
      "48         268980.2011         277328.3215          288215.782   \n",
      "\n",
      "0  2021-10-01 00:00:00 2021-11-01 00:00:00 2021-12-01 00:00:00  \\\n",
      "1          792257.5493         798212.3879          813435.102   \n",
      "2          326733.2244         327928.3074         329557.0047   \n",
      "3          574852.5269         577708.2605         583195.3087   \n",
      "4          375783.3263         378961.3767         379526.3458   \n",
      "5          509397.4875         515067.9083         518958.5856   \n",
      "6          474662.6913         478724.0107         476969.7846   \n",
      "7          838987.1191          868463.619         889160.0227   \n",
      "8          402995.4493         403922.9444         404118.1402   \n",
      "9          518710.3974         518947.3247         516851.7744   \n",
      "10         433383.3177         433406.7133         432808.7906   \n",
      "11         412563.2251         410415.2112          408466.531   \n",
      "12         590645.1197         593564.6053         604999.7028   \n",
      "13         800617.9054         770570.3519         770921.4663   \n",
      "14         594907.8638         587721.1266         579905.8303   \n",
      "15         490181.5935         493970.9287         500948.9798   \n",
      "16         399522.2364         402636.1549         402159.1905   \n",
      "17         439270.7253         442996.8034         441142.9155   \n",
      "18         427966.1737         427796.9489         430102.3059   \n",
      "19         715697.3299         717451.5942         727162.7293   \n",
      "20         1458613.808         1438989.829         1398510.565   \n",
      "21         531847.0545          534055.568         529322.5767   \n",
      "22         540679.2602         544539.4907         538235.9944   \n",
      "23          443617.909         445022.3566          441630.527   \n",
      "24         569622.5158         575971.4498         581821.3433   \n",
      "25         386603.7566         393351.5181         392779.3325   \n",
      "26         467328.8624         470083.2799         472423.2905   \n",
      "27          742823.242         736705.4341         749842.4435   \n",
      "28         502174.1096         509073.2419         515861.6355   \n",
      "29          414279.999         410830.2969         410539.7667   \n",
      "30         440824.7709         439926.5357         441675.8554   \n",
      "31         478621.8206         475867.7176         472600.6936   \n",
      "32         639899.1276         633861.1258         634167.3798   \n",
      "33          1023849.29         976110.3458         1033172.155   \n",
      "34                 NaN                 NaN                 NaN   \n",
      "35         606922.2298         605308.5658         608152.9046   \n",
      "36         464437.3659          465894.515         466650.5425   \n",
      "37                 NaN                 NaN                 NaN   \n",
      "38         143930.1289         147244.4946         149189.3107   \n",
      "39         189969.1405          195790.068         199043.1651   \n",
      "40         186675.4517         191813.3804         193706.5518   \n",
      "41         224070.7577         228070.0028         230924.2495   \n",
      "42         225314.9881         229901.1179         234295.4347   \n",
      "43         326561.0196         334640.4365         335892.6578   \n",
      "44         513951.6446         513687.3707         515087.9239   \n",
      "45         363284.9925         369234.5412         371268.2627   \n",
      "46         295591.1568         303610.1649         307137.5123   \n",
      "47                 NaN                 NaN                 NaN   \n",
      "48         280457.4775         286268.2167         289147.5126   \n",
      "\n",
      "0  2022-01-01 00:00:00 2022-02-01 00:00:00 2022-03-01 00:00:00  \\\n",
      "1          811508.8041          864897.234         813511.6177   \n",
      "2          338869.7029         345001.3576         346064.5259   \n",
      "3          580179.6373         576485.8755         576689.7495   \n",
      "4          382270.4215         387171.1018         393246.1533   \n",
      "5           519652.186         525664.3639         532006.6781   \n",
      "6          477940.5654         482488.4382         488167.0019   \n",
      "7          862346.1416         844906.0505          860277.973   \n",
      "8          402782.4332         406092.0046         412616.1388   \n",
      "9          518836.7152         525004.1651         532883.1655   \n",
      "10         430460.8348         433629.3853         435443.7257   \n",
      "11         416151.3221         423822.6677         430997.3337   \n",
      "12         631181.1859         635288.5923          623277.649   \n",
      "13         757865.9621         759519.0329         744871.9549   \n",
      "14         585812.3312         588085.1792         591510.3968   \n",
      "15         510587.5528         521087.5114         513438.9373   \n",
      "16         406196.2793         409503.7945         411629.0926   \n",
      "17         443353.1842         446984.0262         453411.8981   \n",
      "18          429894.727         434880.6259         426963.7612   \n",
      "19         709242.6839         701379.8325         712058.7368   \n",
      "20         1352740.932         1367973.262         1416959.804   \n",
      "21         533147.9659         528461.6059         530418.5572   \n",
      "22         530907.0118         539015.9961         537596.0607   \n",
      "23         439795.9001         445844.9622         458488.1819   \n",
      "24         567340.2989         560501.3722         556016.3395   \n",
      "25         402920.9823         400987.3735         410900.7381   \n",
      "26         475348.0472         475400.2126         477530.9219   \n",
      "27          746049.445         759033.6523         767844.9027   \n",
      "28         525810.0621         532735.7856         524979.9563   \n",
      "29         417675.1441         425631.3353         426301.5912   \n",
      "30         457024.7988         473180.4346         478492.9401   \n",
      "31         480620.2518         486643.1803         491765.0393   \n",
      "32         622914.2685         628818.0618         634288.9237   \n",
      "33         1014964.961         1012521.105          981804.544   \n",
      "34                 NaN                 NaN                 NaN   \n",
      "35         607502.4373         612361.1838         614996.0728   \n",
      "36         468733.5111         472821.2171         476130.6331   \n",
      "37                 NaN                 NaN                 NaN   \n",
      "38         150733.8356         151948.0782         155000.0783   \n",
      "39         200830.9409          203694.787         204719.0271   \n",
      "40         195162.0767         198675.8981         198609.5008   \n",
      "41         232783.5029         235637.6375           239091.39   \n",
      "42         236304.7075         238480.7707         240866.4576   \n",
      "43          338384.171          344434.416         343492.4128   \n",
      "44         517529.8233         526585.5925         524406.3787   \n",
      "45         376973.7347         378505.6677         383792.3209   \n",
      "46         308308.3452         312527.9644         312678.6798   \n",
      "47                 NaN                 NaN                 NaN   \n",
      "48         291644.4072         295296.2716         296945.9156   \n",
      "\n",
      "0  2022-04-01 00:00:00  \n",
      "1          838145.2394  \n",
      "2          336125.8982  \n",
      "3          596898.1846  \n",
      "4          392154.9821  \n",
      "5          546934.1163  \n",
      "6          495549.8738  \n",
      "7          874080.5433  \n",
      "8          417946.8683  \n",
      "9          525438.3054  \n",
      "10          449967.405  \n",
      "11         434433.3002  \n",
      "12         607030.0269  \n",
      "13         721184.8016  \n",
      "14         601439.0498  \n",
      "15         497236.0168  \n",
      "16         425898.3484  \n",
      "17         459564.5274  \n",
      "18          428482.634  \n",
      "19         712968.1253  \n",
      "20         1513711.487  \n",
      "21         528432.8212  \n",
      "22         545755.8001  \n",
      "23         446546.4882  \n",
      "24         566919.3326  \n",
      "25          407474.353  \n",
      "26         480317.7664  \n",
      "27         792537.7549  \n",
      "28         527636.1363  \n",
      "29         424726.2324  \n",
      "30         499715.8655  \n",
      "31          478260.832  \n",
      "32         641131.9851  \n",
      "33          977553.758  \n",
      "34                 NaN  \n",
      "35         618426.0265  \n",
      "36         480501.3827  \n",
      "37                 NaN  \n",
      "38         155214.9625  \n",
      "39         208867.0279  \n",
      "40         201805.9692  \n",
      "41         237903.8155  \n",
      "42         242144.9283  \n",
      "43         344942.9554  \n",
      "44         529828.5981  \n",
      "45          382790.785  \n",
      "46         318610.4376  \n",
      "47                 NaN  \n",
      "48          299249.031  \n",
      "\n",
      "[48 rows x 330 columns]\n"
     ]
    }
   ],
   "source": [
    "properties_transposed= properties.T ##swap the dataframe around\n",
    "properties_transposed = properties_transposed.reset_index() ##reset the index so it is no longer the burrough names\n",
    "properties_transposed.columns = properties_transposed.iloc[0] ##setting column to the value of the 0 index dates\n",
    "properties_transposed = properties_transposed.drop(0) ##dropping the row at index 0 we used the data from\n",
    "print(properties_transposed)"
   ]
  },
  {
   "cell_type": "markdown",
   "metadata": {
    "colab_type": "text",
    "id": "o1uLbJAsoIjK"
   },
   "source": [
    "**2.3. Cleaning the data (part 2)**\n",
    "\n",
    "You might we have to **rename** a couple columns. How do you do this? The clue's pretty bold..."
   ]
  },
  {
   "cell_type": "code",
   "execution_count": 30,
   "metadata": {
    "colab": {},
    "colab_type": "code",
    "id": "GKkmn1AnoVZS"
   },
   "outputs": [
    {
     "name": "stdout",
     "output_type": "stream",
     "text": [
      "0        Borough_Name         ID 1995-01-01 00:00:00 1995-02-01 00:00:00  \\\n",
      "1      City of London  E09000001         91448.98487         82202.77314   \n",
      "2  Barking & Dagenham  E09000002          50460.2266         51085.77983   \n",
      "3              Barnet  E09000003         93284.51832         93190.16963   \n",
      "4              Bexley  E09000004         64958.09036         64787.92069   \n",
      "5               Brent  E09000005         71306.56698         72022.26197   \n",
      "\n",
      "0 1995-03-01 00:00:00 1995-04-01 00:00:00 1995-05-01 00:00:00  \\\n",
      "1         79120.70256         77101.20804         84409.14932   \n",
      "2         51268.96956         53133.50526         53042.24852   \n",
      "3         92247.52435         90762.87492         90258.00033   \n",
      "4         64367.49344         64277.66881         63997.13588   \n",
      "5         72015.76274         72965.63094         73704.04743   \n",
      "\n",
      "0 1995-06-01 00:00:00 1995-07-01 00:00:00 1995-08-01 00:00:00  ...  \\\n",
      "1         94900.51244         110128.0423         112329.4376  ...   \n",
      "2         53700.34831         52113.12157         52232.19868  ...   \n",
      "3         90107.23471         91441.24768         92361.31512  ...   \n",
      "4         64252.32335         63722.70055         64432.60005  ...   \n",
      "5         74310.48167         74127.03788          73547.0411  ...   \n",
      "\n",
      "0 2021-07-01 00:00:00 2021-08-01 00:00:00 2021-09-01 00:00:00  \\\n",
      "1         946823.5048         951748.3655         956411.5828   \n",
      "2         309272.9988         313458.6524         315061.8135   \n",
      "3         543469.3212         557782.6161         556321.1527   \n",
      "4          366095.067         371295.1503         372283.9658   \n",
      "5         525953.4981         519967.3789         516871.8266   \n",
      "\n",
      "0 2021-10-01 00:00:00 2021-11-01 00:00:00 2021-12-01 00:00:00  \\\n",
      "1         792257.5493         798212.3879          813435.102   \n",
      "2         326733.2244         327928.3074         329557.0047   \n",
      "3         574852.5269         577708.2605         583195.3087   \n",
      "4         375783.3263         378961.3767         379526.3458   \n",
      "5         509397.4875         515067.9083         518958.5856   \n",
      "\n",
      "0 2022-01-01 00:00:00 2022-02-01 00:00:00 2022-03-01 00:00:00  \\\n",
      "1         811508.8041          864897.234         813511.6177   \n",
      "2         338869.7029         345001.3576         346064.5259   \n",
      "3         580179.6373         576485.8755         576689.7495   \n",
      "4         382270.4215         387171.1018         393246.1533   \n",
      "5          519652.186         525664.3639         532006.6781   \n",
      "\n",
      "0 2022-04-01 00:00:00  \n",
      "1         838145.2394  \n",
      "2         336125.8982  \n",
      "3         596898.1846  \n",
      "4         392154.9821  \n",
      "5         546934.1163  \n",
      "\n",
      "[5 rows x 330 columns]\n"
     ]
    }
   ],
   "source": [
    "properties_transposed = properties_transposed.rename(columns = {'London_Borough':'Borough_Name', pd.NaT: 'ID'})\n",
    "print(properties_transposed.head())"
   ]
  },
  {
   "cell_type": "markdown",
   "metadata": {
    "colab_type": "text",
    "id": "jy8BzXHmoWEw"
   },
   "source": [
    "**2.4.Transforming the data**\n",
    "\n",
    "Remember what Wes McKinney said about tidy data? \n",
    "\n",
    "You might need to **melt** your DataFrame here. "
   ]
  },
  {
   "cell_type": "code",
   "execution_count": 50,
   "metadata": {
    "colab": {},
    "colab_type": "code",
    "id": "S2wM0qLuo2Zt"
   },
   "outputs": [
    {
     "name": "stdout",
     "output_type": "stream",
     "text": [
      "         Borough_Name         ID      Month Average_Price\n",
      "0      City of London  E09000001 1995-01-01   91448.98487\n",
      "1  Barking & Dagenham  E09000002 1995-01-01    50460.2266\n",
      "2              Barnet  E09000003 1995-01-01   93284.51832\n",
      "3              Bexley  E09000004 1995-01-01   64958.09036\n",
      "4               Brent  E09000005 1995-01-01   71306.56698\n"
     ]
    }
   ],
   "source": [
    "properties_melted = pd.melt(properties_transposed, id_vars= ['Borough_Name', 'ID'])\n",
    "properties_melted = properties_melted.rename(columns = {0: 'Month', 'value': 'Average_Price'})\n",
    "print(properties_melted.head())"
   ]
  },
  {
   "cell_type": "markdown",
   "metadata": {
    "colab_type": "text",
    "id": "7kIsgAo7o3mf"
   },
   "source": [
    "Remember to make sure your column data types are all correct. Average prices, for example, should be floating point numbers... "
   ]
  },
  {
   "cell_type": "code",
   "execution_count": 51,
   "metadata": {
    "colab": {},
    "colab_type": "code",
    "id": "ZcR4IHbcpOaq"
   },
   "outputs": [
    {
     "name": "stdout",
     "output_type": "stream",
     "text": [
      "<class 'pandas.core.frame.DataFrame'>\n",
      "RangeIndex: 15744 entries, 0 to 15743\n",
      "Data columns (total 4 columns):\n",
      " #   Column         Non-Null Count  Dtype         \n",
      "---  ------         --------------  -----         \n",
      " 0   Borough_Name   15744 non-null  object        \n",
      " 1   ID             14760 non-null  object        \n",
      " 2   Month          15744 non-null  datetime64[ns]\n",
      " 3   Average_Price  14760 non-null  float64       \n",
      "dtypes: datetime64[ns](1), float64(1), object(2)\n",
      "memory usage: 492.1+ KB\n",
      "None\n"
     ]
    }
   ],
   "source": [
    "properties_melted['Average_Price'] = pd.to_numeric(properties_melted['Average_Price'])\n",
    "print(properties_melted.info())\n"
   ]
  },
  {
   "cell_type": "markdown",
   "metadata": {
    "colab_type": "text",
    "id": "knLUXHLypOtw"
   },
   "source": [
    "**2.5. Cleaning the data (part 3)**\n",
    "\n",
    "Do we have an equal number of observations in the ID, Average Price, Month, and London Borough columns? Remember that there are only 32 London Boroughs. How many entries do you have in that column? \n",
    "\n",
    "Check out the contents of the London Borough column, and if you find null values, get rid of them however you see fit. "
   ]
  },
  {
   "cell_type": "code",
   "execution_count": 77,
   "metadata": {
    "colab": {},
    "colab_type": "code",
    "id": "BnvTW5a3p0fC"
   },
   "outputs": [
    {
     "name": "stdout",
     "output_type": "stream",
     "text": [
      "Borough_Name     15744\n",
      "ID               14760\n",
      "Month            15744\n",
      "Average_Price    14760\n",
      "dtype: int64\n",
      "['City of London' 'Barking & Dagenham' 'Barnet' 'Bexley' 'Brent' 'Bromley'\n",
      " 'Camden' 'Croydon' 'Ealing' 'Enfield' 'Greenwich' 'Hackney'\n",
      " 'Hammersmith & Fulham' 'Haringey' 'Harrow' 'Havering' 'Hillingdon'\n",
      " 'Hounslow' 'Islington' 'Kensington & Chelsea' 'Kingston upon Thames'\n",
      " 'Lambeth' 'Lewisham' 'Merton' 'Newham' 'Redbridge' 'Richmond upon Thames'\n",
      " 'Southwark' 'Sutton' 'Tower Hamlets' 'Waltham Forest' 'Wandsworth'\n",
      " 'Westminster']\n",
      "         Borough_Name         ID      Month  Average_Price\n",
      "0      City of London  E09000001 1995-01-01    91448.98487\n",
      "1  Barking & Dagenham  E09000002 1995-01-01    50460.22660\n",
      "2              Barnet  E09000003 1995-01-01    93284.51832\n",
      "3              Bexley  E09000004 1995-01-01    64958.09036\n",
      "4               Brent  E09000005 1995-01-01    71306.56698\n",
      "             Borough_Name         ID      Month  Average_Price\n",
      "0          City of London  E09000001 1995-01-01    91448.98487\n",
      "1      Barking & Dagenham  E09000002 1995-01-01    50460.22660\n",
      "2                  Barnet  E09000003 1995-01-01    93284.51832\n",
      "3                  Bexley  E09000004 1995-01-01    64958.09036\n",
      "4                   Brent  E09000005 1995-01-01    71306.56698\n",
      "...                   ...        ...        ...            ...\n",
      "15724              Sutton  E09000029 2022-04-01   424726.23240\n",
      "15725       Tower Hamlets  E09000030 2022-04-01   499715.86550\n",
      "15726      Waltham Forest  E09000031 2022-04-01   478260.83200\n",
      "15727          Wandsworth  E09000032 2022-04-01   641131.98510\n",
      "15728         Westminster  E09000033 2022-04-01   977553.75800\n",
      "\n",
      "[10824 rows x 4 columns]\n"
     ]
    }
   ],
   "source": [
    "print(properties_melted.count())\n",
    "print(cleaned_properties['Borough_Name'].unique())\n",
    "cleaned_properties = properties_melted.dropna()\n",
    "print(cleaned_properties.head())\n",
    "to_delete = ['Inner London', 'Outer London', 'NORTH EAST', 'NORTH WEST',\n",
    " 'YORKS & THE HUMBER', 'EAST MIDLANDS', 'WEST MIDLANDS', 'EAST OF ENGLAND',\n",
    " 'LONDON', 'SOUTH EAST', 'SOUTH WEST', 'England']\n",
    "cleaned_properties[~cleaned_properties.Borough_Name.isin(to_delete)]\n",
    "cleaned_properties = cleaned_properties[~cleaned_properties.Borough_Name.isin(to_delete)]\n",
    "print(cleaned_properties)"
   ]
  },
  {
   "cell_type": "markdown",
   "metadata": {
    "colab_type": "text",
    "id": "PGEx6mJsp6dG"
   },
   "source": [
    "**2.6. Visualizing the data**\n",
    "\n",
    "To visualize the data, why not subset on a particular London Borough? Maybe do a line plot of Month against Average Price?"
   ]
  },
  {
   "cell_type": "code",
   "execution_count": 65,
   "metadata": {
    "colab": {},
    "colab_type": "code",
    "id": "nAg5pT9cqHAR"
   },
   "outputs": [
    {
     "data": {
      "image/png": "[encoded data removed]",
      "text/plain": [
       "<Figure size 432x288 with 1 Axes>"
      ]
     },
     "metadata": {
      "needs_background": "light"
     },
     "output_type": "display_data"
    }
   ],
   "source": [
    "borough_prices = cleaned_properties[cleaned_properties['Borough_Name'] =='Bexley']\n",
    "borough_prices.plot(x= 'Month', y= 'Average_Price', kind= 'line')\n",
    "plt.show()"
   ]
  },
  {
   "cell_type": "markdown",
   "metadata": {
    "colab_type": "text",
    "id": "aWTPqSJeqHnC"
   },
   "source": [
    "To limit the number of data points you have, you might want to extract the year from every month value your *Month* column. \n",
    "\n",
    "To this end, you *could* apply a ***lambda function***. Your logic could work as follows:\n",
    "1. look through the `Month` column\n",
    "2. extract the year from each individual value in that column \n",
    "3. store that corresponding year as separate column. \n",
    "\n",
    "Whether you go ahead with this is up to you. Just so long as you answer our initial brief: which boroughs of London have seen the greatest house price increase, on average, over the past two decades? "
   ]
  },
  {
   "cell_type": "code",
   "execution_count": 83,
   "metadata": {
    "colab": {},
    "colab_type": "code",
    "id": "e0DF92cyqnu8"
   },
   "outputs": [
    {
     "name": "stdout",
     "output_type": "stream",
     "text": [
      "           Borough_Name  Year  Average_Price\n",
      "0    Barking & Dagenham  1995   5.181797e+04\n",
      "1    Barking & Dagenham  1996   5.171819e+04\n",
      "2    Barking & Dagenham  1997   5.597426e+04\n",
      "3    Barking & Dagenham  1998   6.028582e+04\n",
      "4    Barking & Dagenham  1999   6.532093e+04\n",
      "..                  ...   ...            ...\n",
      "919         Westminster  2018   1.020025e+06\n",
      "920         Westminster  2019   9.559986e+05\n",
      "921         Westminster  2020   9.604692e+05\n",
      "922         Westminster  2021   9.611841e+05\n",
      "923         Westminster  2022   9.967111e+05\n",
      "\n",
      "[924 rows x 3 columns]\n"
     ]
    }
   ],
   "source": [
    "cleaned_properties['Year'] = cleaned_properties['Month'].apply(lambda t: t.year)\n",
    "cleaned_properties.tail()\n",
    "dfg = cleaned_properties.groupby(by=['Borough_Name', 'Year']).mean()\n",
    "dfg = dfg.reset_index()\n",
    "print(dfg)"
   ]
  },
  {
   "cell_type": "markdown",
   "metadata": {
    "colab_type": "text",
    "id": "2knuTxAEqoJ4"
   },
   "source": [
    "**3. Modeling**\n",
    "\n",
    "Consider creating a function that will calculate a ratio of house prices, comparing the price of a house in 2018 to the price in 1998.\n",
    "\n",
    "Consider calling this function create_price_ratio.\n",
    "\n",
    "You'd want this function to:\n",
    "1. Take a filter of dfg, specifically where this filter constrains the London_Borough, as an argument. For example, one admissible argument should be: dfg[dfg['London_Borough']=='Camden'].\n",
    "2. Get the Average Price for that Borough, for the years 1998 and 2018.\n",
    "4. Calculate the ratio of the Average Price for 1998 divided by the Average Price for 2018.\n",
    "5. Return that ratio.\n",
    "\n",
    "Once you've written this function, you ultimately want to use it to iterate through all the unique London_Boroughs and work out the ratio capturing the difference of house prices between 1998 and 2018.\n",
    "\n",
    "Bear in mind: you don't have to write a function like this if you don't want to. If you can solve the brief otherwise, then great! \n",
    "\n",
    "***Hint***: This section should test the skills you acquired in:\n",
    "- Python Data Science Toolbox - Part One, all modules"
   ]
  },
  {
   "cell_type": "code",
   "execution_count": 102,
   "metadata": {
    "colab": {},
    "colab_type": "code",
    "id": "cKTyr437UgDa"
   },
   "outputs": [
    {
     "name": "stdout",
     "output_type": "stream",
     "text": [
      "              Borough      2018\n",
      "0  Barking & Dagenham  4.896619\n",
      "1              Barnet  4.358196\n",
      "2              Bexley  4.248977\n",
      "3               Brent  4.894554\n",
      "4             Bromley  4.094785\n"
     ]
    },
    {
     "data": {
      "text/plain": [
       "[Text(0, 0, 'Barking & Dagenham'),\n",
       " Text(1, 0, 'Barnet'),\n",
       " Text(2, 0, 'Bexley'),\n",
       " Text(3, 0, 'Brent'),\n",
       " Text(4, 0, 'Bromley'),\n",
       " Text(5, 0, 'Camden'),\n",
       " Text(6, 0, 'City of London'),\n",
       " Text(7, 0, 'Croydon'),\n",
       " Text(8, 0, 'Ealing'),\n",
       " Text(9, 0, 'Enfield'),\n",
       " Text(10, 0, 'Greenwich'),\n",
       " Text(11, 0, 'Hackney'),\n",
       " Text(12, 0, 'Hammersmith & Fulham'),\n",
       " Text(13, 0, 'Haringey'),\n",
       " Text(14, 0, 'Harrow'),\n",
       " Text(15, 0, 'Havering'),\n",
       " Text(16, 0, 'Hillingdon'),\n",
       " Text(17, 0, 'Hounslow'),\n",
       " Text(18, 0, 'Islington'),\n",
       " Text(19, 0, 'Kensington & Chelsea'),\n",
       " Text(20, 0, 'Kingston upon Thames'),\n",
       " Text(21, 0, 'Lambeth'),\n",
       " Text(22, 0, 'Lewisham'),\n",
       " Text(23, 0, 'Merton'),\n",
       " Text(24, 0, 'Newham'),\n",
       " Text(25, 0, 'Redbridge'),\n",
       " Text(26, 0, 'Richmond upon Thames'),\n",
       " Text(27, 0, 'Southwark'),\n",
       " Text(28, 0, 'Sutton'),\n",
       " Text(29, 0, 'Tower Hamlets'),\n",
       " Text(30, 0, 'Waltham Forest'),\n",
       " Text(31, 0, 'Wandsworth'),\n",
       " Text(32, 0, 'Westminster')]"
      ]
     },
     "execution_count": 102,
     "metadata": {},
     "output_type": "execute_result"
    },
    {
     "data": {
      "image/png": "[encoded data removed]",
      "text/plain": [
       "<Figure size 864x576 with 1 Axes>"
      ]
     },
     "metadata": {
      "needs_background": "light"
     },
     "output_type": "display_data"
    }
   ],
   "source": [
    "def create_price_ratio(d):\n",
    "    y1998 = float(d['Average_Price'][d['Year']==1998])\n",
    "    y2018 = float(d['Average_Price'][d['Year']==2018])\n",
    "    ratio = [y2018/y1998]\n",
    "    return ratio\n",
    "\n",
    "prices = {}\n",
    "\n",
    "for b in dfg['Borough_Name'].unique():\n",
    "    borough = dfg[dfg['Borough_Name']== b]\n",
    "    prices[b] = create_price_ratio(borough)\n",
    "\n",
    "ratios = pd.DataFrame(prices)\n",
    "\n",
    "\n",
    "ratios_transposed = ratios.T\n",
    "ratios_transposed = ratios_transposed.reset_index()\n",
    "\n",
    "ratios_transposed.rename(columns={'index':'Borough', 0:'2018'}, inplace=True)\n",
    "print(ratios_transposed.head())\n",
    "ax = ratios_transposed[['Borough','2018']].plot(kind='bar', figsize=(12,8))\n",
    "ax.set_xticklabels(ratios_transposed.Borough)\n"
   ]
  },
  {
   "cell_type": "markdown",
   "metadata": {
    "colab_type": "text",
    "id": "NzYUI7FxJpgv"
   },
   "source": [
    "### 4. Conclusion\n",
    "What can you conclude? Type out your conclusion below. \n",
    "\n",
    "Look back at your notebook. Think about how you might summarize what you have done, and prepare a quick presentation on it to your mentor at your next meeting. \n",
    "\n",
    "We hope you enjoyed this practical project. It should have consolidated your data hygiene and pandas skills by looking at a real-world problem involving just the kind of dataset you might encounter as a budding data scientist. Congratulations, and looking forward to seeing you at the next step in the course! "
   ]
  }
 ],
 "metadata": {
  "colab": {
   "collapsed_sections": [],
   "name": "Springboard Data Science Career Track Unit 4 Challenge - Tier 3 Complete .ipynb",
   "provenance": []
  },
  "kernelspec": {
   "display_name": "Python 3 (ipykernel)",
   "language": "python",
   "name": "python3"
  },
  "language_info": {
   "codemirror_mode": {
    "name": "ipython",
    "version": 3
   },
   "file_extension": ".py",
   "mimetype": "text/x-python",
   "name": "python",
   "nbconvert_exporter": "python",
   "pygments_lexer": "ipython3",
   "version": "3.9.12"
  }
 },
 "nbformat": 4,
 "nbformat_minor": 1
}
